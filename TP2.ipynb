{
 "cells": [
  {
   "cell_type": "markdown",
   "source": [
    "___\n",
    "\n",
    "<h1> Enunciado do Trabalho Prático (parte 2) </h1>\n",
    "\n",
    "___\n",
    "<h2> Machine Learning </h2>\n",
    "<h3>  Systems Engineering and Computer Technologies </h3>\n",
    "<h4> Instituto Superior de Engenharia / Universidade do Algarve </h4>\n",
    "\n",
    "[MEEC](https://ise.ualg.pt/en/curso/1477) / [ISE](https://ise.ualg.pt) / [UAlg](https://www.ualg.pt)\n",
    "\n",
    "Pedro J. S. Cardoso (pcardoso@ualg.pt)\n",
    "\n",
    "___"
   ],
   "metadata": {
    "collapsed": false
   },
   "id": "f5833bd3cd189e2"
  },
  {
   "cell_type": "markdown",
   "source": [
    "# Previsão Binária do Status de Fumante usando Bio-Sinais\n",
    "\n",
    "Considere a competição do Kaggle \"_Binary Prediction of Smoker Status using Bio-Signals: Playground Series - Season 3, Episode 24_\", que pode ser encontrada em https://www.kaggle.com/competitions/playground-series-s3e24\n",
    "\n",
    "1. O trabalho consiste em \n",
    "    1. Comece por ler a documentação da competição.\n",
    "\n",
    "    2. De seguida, construa um modelo para prever o _target_. Como restrição, só pode usar algoritmos da seguinte lista:\n",
    "        - Regressão Logística\n",
    "        - K-_Nearest Neighbors_\n",
    "        - Árvores de Decisão\n",
    "        - _Random Forest_\n",
    "        - _Suport Vector Machines_\n",
    "        - Redes Neurais\n",
    "\n",
    "    3. Tente ajustar seu modelo o melhor possível. Sugestão: use _cross validation_ para avaliar o seu modelo e _grid search_ para ajustá-lo. \n",
    "    4. Submeta os seus resultados na plataforma do Kaggle. Lembre-se de que você só pode submeter 5 vezes por dia os seus resultados na plataforma. Note ainda que deve enviar os resultados de `predict_proba`, não do `predict`.\n",
    "\n",
    "3. Entregue:\n",
    "    - em formato Jupyter Notebook (`.ipynb`), com o nome `TP1_<axxxxx>-<nome1>_<axxxxx>-<nome2>.ipynb`, em que `<axxxxx>-<nome1>` e `<axxxxx>-<nome2>` são os número de alunos e respetivos nomes.\n",
    "    - com todos os outputs, gráficos visíveis, comentários, etc.\n",
    "    - com o código a funcionar, i.e., deve ser possível executar todas as células do notebook sem erros, de forma sequencial.\n",
    "    - Uma captura de ecrã da sua melhor pontuação no quadro de líderes.\n",
    "        \n",
    "4. No final haverá uma sessão de perguntas e respostas sobre o trabalho. Será atribuida classificação negativa trabalhos que:\n",
    "    - sejam cópias uns dos outros (0 valores - sem possibilidade de melhoria)\n",
    "    - não sejam realizados pelos alunos que os entregam (0 valores - sem possibilidade de melhoria)\n",
    "    - não sejam entregues até à data limite (desconto de 0.5 valores por dia de atraso, limite 4 valores)\n",
    "    - não sejam apresentados na sessão de perguntas e respostas (0 valores)\n",
    "\n",
    "\n",
    "5. Os notebooks com as melhores pontuações de teste serão apresentados em sala de aula e o(s) autor(es) receberão pontos extras.\n",
    "\n",
    "6. Este TP seguirá o mesmo prazo da competição: 13 de novembro."
   ],
   "metadata": {
    "collapsed": false
   },
   "id": "76e09207ec45b053"
  },
  {
   "cell_type": "markdown",
   "source": [
    "# #TODO:\n",
    " Regressão Logística DONE\n",
    " K-_Nearest Neighbors_ DONE\n",
    " Árvores de Decisão DONE\n",
    " _Random Forest_ DONE\n",
    " _Suport Vector Machines_ DONE\n",
    " Redes Neurais DONE\n",
    " Falta:\n",
    " Fazer um esemble com TUDO ( e guardar o actual que deu o melhor resultado)"
   ],
   "metadata": {
    "collapsed": false
   },
   "id": "a313b529636c4918"
  },
  {
   "cell_type": "markdown",
   "source": [
    "# Setup"
   ],
   "metadata": {
    "collapsed": false
   },
   "id": "be5817636c8bd283"
  },
  {
   "cell_type": "code",
   "execution_count": 1,
   "outputs": [
    {
     "data": {
      "text/plain": "   id  age  height(cm)  weight(kg)  waist(cm)  eyesight(left)  \\\n0   0   55         165          60       81.0             0.5   \n1   1   70         165          65       89.0             0.6   \n2   2   20         170          75       81.0             0.4   \n3   3   35         180          95      105.0             1.5   \n4   4   30         165          60       80.5             1.5   \n\n   eyesight(right)  hearing(left)  hearing(right)  systolic  ...  HDL  LDL  \\\n0              0.6              1               1       135  ...   40   75   \n1              0.7              2               2       146  ...   57  126   \n2              0.5              1               1       118  ...   45   93   \n3              1.2              1               1       131  ...   38  102   \n4              1.0              1               1       121  ...   44   93   \n\n   hemoglobin  Urine protein  serum creatinine  AST  ALT  Gtp  dental caries  \\\n0        16.5              1               1.0   22   25   27              0   \n1        16.2              1               1.1   27   23   37              1   \n2        17.4              1               0.8   27   31   53              0   \n3        15.9              1               1.0   20   27   30              1   \n4        15.4              1               0.8   19   13   17              0   \n\n   smoking  \n0        1  \n1        0  \n2        1  \n3        0  \n4        1  \n\n[5 rows x 24 columns]",
      "text/html": "<div>\n<style scoped>\n    .dataframe tbody tr th:only-of-type {\n        vertical-align: middle;\n    }\n\n    .dataframe tbody tr th {\n        vertical-align: top;\n    }\n\n    .dataframe thead th {\n        text-align: right;\n    }\n</style>\n<table border=\"1\" class=\"dataframe\">\n  <thead>\n    <tr style=\"text-align: right;\">\n      <th></th>\n      <th>id</th>\n      <th>age</th>\n      <th>height(cm)</th>\n      <th>weight(kg)</th>\n      <th>waist(cm)</th>\n      <th>eyesight(left)</th>\n      <th>eyesight(right)</th>\n      <th>hearing(left)</th>\n      <th>hearing(right)</th>\n      <th>systolic</th>\n      <th>...</th>\n      <th>HDL</th>\n      <th>LDL</th>\n      <th>hemoglobin</th>\n      <th>Urine protein</th>\n      <th>serum creatinine</th>\n      <th>AST</th>\n      <th>ALT</th>\n      <th>Gtp</th>\n      <th>dental caries</th>\n      <th>smoking</th>\n    </tr>\n  </thead>\n  <tbody>\n    <tr>\n      <th>0</th>\n      <td>0</td>\n      <td>55</td>\n      <td>165</td>\n      <td>60</td>\n      <td>81.0</td>\n      <td>0.5</td>\n      <td>0.6</td>\n      <td>1</td>\n      <td>1</td>\n      <td>135</td>\n      <td>...</td>\n      <td>40</td>\n      <td>75</td>\n      <td>16.5</td>\n      <td>1</td>\n      <td>1.0</td>\n      <td>22</td>\n      <td>25</td>\n      <td>27</td>\n      <td>0</td>\n      <td>1</td>\n    </tr>\n    <tr>\n      <th>1</th>\n      <td>1</td>\n      <td>70</td>\n      <td>165</td>\n      <td>65</td>\n      <td>89.0</td>\n      <td>0.6</td>\n      <td>0.7</td>\n      <td>2</td>\n      <td>2</td>\n      <td>146</td>\n      <td>...</td>\n      <td>57</td>\n      <td>126</td>\n      <td>16.2</td>\n      <td>1</td>\n      <td>1.1</td>\n      <td>27</td>\n      <td>23</td>\n      <td>37</td>\n      <td>1</td>\n      <td>0</td>\n    </tr>\n    <tr>\n      <th>2</th>\n      <td>2</td>\n      <td>20</td>\n      <td>170</td>\n      <td>75</td>\n      <td>81.0</td>\n      <td>0.4</td>\n      <td>0.5</td>\n      <td>1</td>\n      <td>1</td>\n      <td>118</td>\n      <td>...</td>\n      <td>45</td>\n      <td>93</td>\n      <td>17.4</td>\n      <td>1</td>\n      <td>0.8</td>\n      <td>27</td>\n      <td>31</td>\n      <td>53</td>\n      <td>0</td>\n      <td>1</td>\n    </tr>\n    <tr>\n      <th>3</th>\n      <td>3</td>\n      <td>35</td>\n      <td>180</td>\n      <td>95</td>\n      <td>105.0</td>\n      <td>1.5</td>\n      <td>1.2</td>\n      <td>1</td>\n      <td>1</td>\n      <td>131</td>\n      <td>...</td>\n      <td>38</td>\n      <td>102</td>\n      <td>15.9</td>\n      <td>1</td>\n      <td>1.0</td>\n      <td>20</td>\n      <td>27</td>\n      <td>30</td>\n      <td>1</td>\n      <td>0</td>\n    </tr>\n    <tr>\n      <th>4</th>\n      <td>4</td>\n      <td>30</td>\n      <td>165</td>\n      <td>60</td>\n      <td>80.5</td>\n      <td>1.5</td>\n      <td>1.0</td>\n      <td>1</td>\n      <td>1</td>\n      <td>121</td>\n      <td>...</td>\n      <td>44</td>\n      <td>93</td>\n      <td>15.4</td>\n      <td>1</td>\n      <td>0.8</td>\n      <td>19</td>\n      <td>13</td>\n      <td>17</td>\n      <td>0</td>\n      <td>1</td>\n    </tr>\n  </tbody>\n</table>\n<p>5 rows × 24 columns</p>\n</div>"
     },
     "execution_count": 1,
     "metadata": {},
     "output_type": "execute_result"
    }
   ],
   "source": [
    "import pandas as pd\n",
    "\n",
    "# load the main data\n",
    "df = pd.read_csv('datasets/train.csv')\n",
    "# set a random state because of ze germans\n",
    "random_state=42\n",
    "# show the first 5 rows\n",
    "df.head()"
   ],
   "metadata": {
    "collapsed": false,
    "ExecuteTime": {
     "end_time": "2023-11-07T13:36:06.487787Z",
     "start_time": "2023-11-07T13:36:05.539528Z"
    }
   },
   "id": "50992507a078b261"
  },
  {
   "cell_type": "code",
   "execution_count": 2,
   "outputs": [
    {
     "data": {
      "text/plain": "   id  age  height(cm)  weight(kg)  waist(cm)  eyesight(left)  \\\n0   0   55         165          60       81.0             0.5   \n1   1   70         165          65       89.0             0.6   \n2   2   20         170          75       81.0             0.4   \n3   3   35         180          95      105.0             1.5   \n4   4   30         165          60       80.5             1.5   \n\n   eyesight(right)  hearing(left)  hearing(right)  systolic  ...  \\\n0              0.6              1               1       135  ...   \n1              0.7              2               2       146  ...   \n2              0.5              1               1       118  ...   \n3              1.2              1               1       131  ...   \n4              1.0              1               1       121  ...   \n\n   triglyceride  HDL  LDL  hemoglobin  Urine protein  serum creatinine  AST  \\\n0           300   40   75        16.5              1               1.0   22   \n1            55   57  126        16.2              1               1.1   27   \n2           197   45   93        17.4              1               0.8   27   \n3           203   38  102        15.9              1               1.0   20   \n4            87   44   93        15.4              1               0.8   19   \n\n   ALT  Gtp  dental caries  \n0   25   27              0  \n1   23   37              1  \n2   31   53              0  \n3   27   30              1  \n4   13   17              0  \n\n[5 rows x 23 columns]",
      "text/html": "<div>\n<style scoped>\n    .dataframe tbody tr th:only-of-type {\n        vertical-align: middle;\n    }\n\n    .dataframe tbody tr th {\n        vertical-align: top;\n    }\n\n    .dataframe thead th {\n        text-align: right;\n    }\n</style>\n<table border=\"1\" class=\"dataframe\">\n  <thead>\n    <tr style=\"text-align: right;\">\n      <th></th>\n      <th>id</th>\n      <th>age</th>\n      <th>height(cm)</th>\n      <th>weight(kg)</th>\n      <th>waist(cm)</th>\n      <th>eyesight(left)</th>\n      <th>eyesight(right)</th>\n      <th>hearing(left)</th>\n      <th>hearing(right)</th>\n      <th>systolic</th>\n      <th>...</th>\n      <th>triglyceride</th>\n      <th>HDL</th>\n      <th>LDL</th>\n      <th>hemoglobin</th>\n      <th>Urine protein</th>\n      <th>serum creatinine</th>\n      <th>AST</th>\n      <th>ALT</th>\n      <th>Gtp</th>\n      <th>dental caries</th>\n    </tr>\n  </thead>\n  <tbody>\n    <tr>\n      <th>0</th>\n      <td>0</td>\n      <td>55</td>\n      <td>165</td>\n      <td>60</td>\n      <td>81.0</td>\n      <td>0.5</td>\n      <td>0.6</td>\n      <td>1</td>\n      <td>1</td>\n      <td>135</td>\n      <td>...</td>\n      <td>300</td>\n      <td>40</td>\n      <td>75</td>\n      <td>16.5</td>\n      <td>1</td>\n      <td>1.0</td>\n      <td>22</td>\n      <td>25</td>\n      <td>27</td>\n      <td>0</td>\n    </tr>\n    <tr>\n      <th>1</th>\n      <td>1</td>\n      <td>70</td>\n      <td>165</td>\n      <td>65</td>\n      <td>89.0</td>\n      <td>0.6</td>\n      <td>0.7</td>\n      <td>2</td>\n      <td>2</td>\n      <td>146</td>\n      <td>...</td>\n      <td>55</td>\n      <td>57</td>\n      <td>126</td>\n      <td>16.2</td>\n      <td>1</td>\n      <td>1.1</td>\n      <td>27</td>\n      <td>23</td>\n      <td>37</td>\n      <td>1</td>\n    </tr>\n    <tr>\n      <th>2</th>\n      <td>2</td>\n      <td>20</td>\n      <td>170</td>\n      <td>75</td>\n      <td>81.0</td>\n      <td>0.4</td>\n      <td>0.5</td>\n      <td>1</td>\n      <td>1</td>\n      <td>118</td>\n      <td>...</td>\n      <td>197</td>\n      <td>45</td>\n      <td>93</td>\n      <td>17.4</td>\n      <td>1</td>\n      <td>0.8</td>\n      <td>27</td>\n      <td>31</td>\n      <td>53</td>\n      <td>0</td>\n    </tr>\n    <tr>\n      <th>3</th>\n      <td>3</td>\n      <td>35</td>\n      <td>180</td>\n      <td>95</td>\n      <td>105.0</td>\n      <td>1.5</td>\n      <td>1.2</td>\n      <td>1</td>\n      <td>1</td>\n      <td>131</td>\n      <td>...</td>\n      <td>203</td>\n      <td>38</td>\n      <td>102</td>\n      <td>15.9</td>\n      <td>1</td>\n      <td>1.0</td>\n      <td>20</td>\n      <td>27</td>\n      <td>30</td>\n      <td>1</td>\n    </tr>\n    <tr>\n      <th>4</th>\n      <td>4</td>\n      <td>30</td>\n      <td>165</td>\n      <td>60</td>\n      <td>80.5</td>\n      <td>1.5</td>\n      <td>1.0</td>\n      <td>1</td>\n      <td>1</td>\n      <td>121</td>\n      <td>...</td>\n      <td>87</td>\n      <td>44</td>\n      <td>93</td>\n      <td>15.4</td>\n      <td>1</td>\n      <td>0.8</td>\n      <td>19</td>\n      <td>13</td>\n      <td>17</td>\n      <td>0</td>\n    </tr>\n  </tbody>\n</table>\n<p>5 rows × 23 columns</p>\n</div>"
     },
     "execution_count": 2,
     "metadata": {},
     "output_type": "execute_result"
    }
   ],
   "source": [
    "# prepare the data\n",
    "data = df.drop(\"smoking\", axis=1)\n",
    "data.head()"
   ],
   "metadata": {
    "collapsed": false,
    "ExecuteTime": {
     "end_time": "2023-11-07T13:36:07.039249Z",
     "start_time": "2023-11-07T13:36:07.007787Z"
    }
   },
   "id": "59ef26baa91cd817"
  },
  {
   "cell_type": "code",
   "execution_count": 3,
   "outputs": [
    {
     "data": {
      "text/plain": "0    1\n1    0\n2    1\n3    0\n4    1\nName: smoking, dtype: int64"
     },
     "execution_count": 3,
     "metadata": {},
     "output_type": "execute_result"
    }
   ],
   "source": [
    "#set the target\n",
    "target = df[\"smoking\"]\n",
    "target.head()"
   ],
   "metadata": {
    "collapsed": false,
    "ExecuteTime": {
     "end_time": "2023-11-07T13:36:07.944184Z",
     "start_time": "2023-11-07T13:36:07.931498Z"
    }
   },
   "id": "56fab546daf01253"
  },
  {
   "cell_type": "code",
   "execution_count": 6,
   "outputs": [],
   "source": [
    "#split data into training and validation\n",
    "from sklearn.model_selection import train_test_split\n",
    "\n",
    "X_train, X_val, y_train, y_val = train_test_split(data.values, target.values, test_size=0.2, random_state=random_state, stratify=target)\n",
    "#load the test data\n",
    "#read the file\n",
    "df_test = pd.read_csv(\"datasets/test.csv\")\n",
    "#get the test values\n",
    "X_test = df_test.values"
   ],
   "metadata": {
    "collapsed": false,
    "ExecuteTime": {
     "end_time": "2023-11-07T13:37:16.679239Z",
     "start_time": "2023-11-07T13:37:16.496823Z"
    }
   },
   "id": "f57d6f3cfa682749"
  },
  {
   "cell_type": "markdown",
   "source": [
    "# Trying MLP Classifier (Neural Network)...\n",
    "Results-> hidden_layer_sizes=(100, 50), max_iter=1000 Score: 0.73422"
   ],
   "metadata": {
    "collapsed": false
   },
   "id": "3e0ee76e3ddfa0f9"
  },
  {
   "cell_type": "code",
   "execution_count": 55,
   "outputs": [
    {
     "name": "stderr",
     "output_type": "stream",
     "text": [
      "/Users/nunovivas/anaconda3/lib/python3.11/site-packages/sklearn/neural_network/_multilayer_perceptron.py:709: UserWarning: Training interrupted by user.\n",
      "  warnings.warn(\"Training interrupted by user.\")\n"
     ]
    },
    {
     "data": {
      "text/plain": "0.7290587422686886"
     },
     "execution_count": 55,
     "metadata": {},
     "output_type": "execute_result"
    }
   ],
   "source": [
    "from sklearn.neural_network import MLPClassifier\n",
    "from sklearn.metrics import accuracy_score\n",
    "# Create a Multi-layer Perceptron (MLP) classifier\n",
    "mlp_classifier = MLPClassifier(hidden_layer_sizes=(100, 50), max_iter=1000, random_state=random_state)\n",
    "\n",
    "# Fit the model on the training data\n",
    "mlp_classifier.fit(X_train, y_train)\n",
    "\n",
    "# Score it\n",
    "mlp_classifier.score(X_train,y_train)\n"
   ],
   "metadata": {
    "collapsed": false,
    "ExecuteTime": {
     "end_time": "2023-11-04T15:05:10.891936Z",
     "start_time": "2023-11-04T14:37:07.335918Z"
    }
   },
   "id": "a7446b1bc970fa22"
  },
  {
   "cell_type": "code",
   "execution_count": 54,
   "outputs": [
    {
     "data": {
      "text/plain": "       id  smoking\n0  159256        1\n1  159257        0\n2  159258        1\n3  159259        0\n4  159260        1",
      "text/html": "<div>\n<style scoped>\n    .dataframe tbody tr th:only-of-type {\n        vertical-align: middle;\n    }\n\n    .dataframe tbody tr th {\n        vertical-align: top;\n    }\n\n    .dataframe thead th {\n        text-align: right;\n    }\n</style>\n<table border=\"1\" class=\"dataframe\">\n  <thead>\n    <tr style=\"text-align: right;\">\n      <th></th>\n      <th>id</th>\n      <th>smoking</th>\n    </tr>\n  </thead>\n  <tbody>\n    <tr>\n      <th>0</th>\n      <td>159256</td>\n      <td>1</td>\n    </tr>\n    <tr>\n      <th>1</th>\n      <td>159257</td>\n      <td>0</td>\n    </tr>\n    <tr>\n      <th>2</th>\n      <td>159258</td>\n      <td>1</td>\n    </tr>\n    <tr>\n      <th>3</th>\n      <td>159259</td>\n      <td>0</td>\n    </tr>\n    <tr>\n      <th>4</th>\n      <td>159260</td>\n      <td>1</td>\n    </tr>\n  </tbody>\n</table>\n</div>"
     },
     "execution_count": 54,
     "metadata": {},
     "output_type": "execute_result"
    }
   ],
   "source": [
    "#Export this prediction\n",
    "# sample submission is (id,smoking)\n",
    "# create an empty dataframe\n",
    "df = pd.DataFrame()\n",
    "pred = mlp_classifier.predict(X_test)\n",
    "# add the id column\n",
    "n_rows, n_cols = X_test.shape\n",
    "df['id'] = df_test['id']\n",
    "# add the Label column\n",
    "df['smoking'] = pred\n",
    "df.to_csv(\"submissions/submissionMLP.csv\", index=False)\n",
    "# show the first 5 rows\n",
    "df.head()\n"
   ],
   "metadata": {
    "collapsed": false,
    "ExecuteTime": {
     "end_time": "2023-11-04T14:33:05.717056Z",
     "start_time": "2023-11-04T14:33:05.374045Z"
    }
   },
   "id": "3b1f4af191bed0ae"
  },
  {
   "cell_type": "markdown",
   "source": [
    "# Trying the forest for the first time...\n",
    "Results-> Estimators: 100 Max Depth: 10 Score: 0.774\n",
    "Results-> Estimators: 131 Max Depth: 10 Score: 0.767\n",
    "Results-> Estimators: 091 Max Depth: 100 Score: 0.772\n",
    "\n"
   ],
   "metadata": {
    "collapsed": false
   },
   "id": "cd1032444ba49860"
  },
  {
   "cell_type": "code",
   "execution_count": 49,
   "outputs": [
    {
     "name": "stdout",
     "output_type": "stream",
     "text": [
      "['N Estimators:1 Score: 0.6890305161371343', 'N Estimators:11 Score: 0.7515697601406505', 'N Estimators:21 Score: 0.7631231947758382', 'N Estimators:31 Score: 0.7661685294487003', 'N Estimators:41 Score: 0.7697475825693834', 'N Estimators:51 Score: 0.7700929298003265', 'N Estimators:61 Score: 0.7705952530453347', 'N Estimators:71 Score: 0.7713173427100339', 'N Estimators:81 Score: 0.7723219892000502', 'N Estimators:91 Score: 0.7725103604169283', 'N Estimators:101 Score: 0.771662689940977']\n"
     ]
    }
   ],
   "source": [
    "from sklearn.ensemble import RandomForestClassifier\n",
    "from sklearn.metrics import accuracy_score\n",
    "\n",
    "result = []\n",
    "for e in range ( 1, 102, 10): # step 10\n",
    "    param_grid = {\n",
    "        'random_state': random_state,\n",
    "        'n_estimators': e,  # The number of trees in the forest\n",
    "        'max_depth': 10,      # Maximum depth of each tree\n",
    "        'min_samples_split': 2,  # Minimum samples required to split an internal node\n",
    "        'min_samples_leaf': 1   # Minimum samples required to be at a leaf node\n",
    "        # deprecated'max_features': 'auto'   # Number of features to consider for the best split\n",
    "    }\n",
    "    randomForest = RandomForestClassifier(**param_grid)\n",
    "    randomForest.fit(X_train, y_train)\n",
    "    # predictions\n",
    "    s = \"N Estimators:\" + str(e) + \" Score: \" + str(randomForest.score(X_val, y_val))\n",
    "    result.append(s)\n",
    "print (result)"
   ],
   "metadata": {
    "collapsed": false,
    "ExecuteTime": {
     "end_time": "2023-11-04T14:16:58.186959Z",
     "start_time": "2023-11-04T14:15:11.908623Z"
    }
   },
   "id": "723a944ae65e68c1"
  },
  {
   "cell_type": "code",
   "execution_count": 43,
   "outputs": [
    {
     "data": {
      "text/plain": "       id  smoking\n0  159256        0\n1  159257        0\n2  159258        1\n3  159259        0\n4  159260        0",
      "text/html": "<div>\n<style scoped>\n    .dataframe tbody tr th:only-of-type {\n        vertical-align: middle;\n    }\n\n    .dataframe tbody tr th {\n        vertical-align: top;\n    }\n\n    .dataframe thead th {\n        text-align: right;\n    }\n</style>\n<table border=\"1\" class=\"dataframe\">\n  <thead>\n    <tr style=\"text-align: right;\">\n      <th></th>\n      <th>id</th>\n      <th>smoking</th>\n    </tr>\n  </thead>\n  <tbody>\n    <tr>\n      <th>0</th>\n      <td>159256</td>\n      <td>0</td>\n    </tr>\n    <tr>\n      <th>1</th>\n      <td>159257</td>\n      <td>0</td>\n    </tr>\n    <tr>\n      <th>2</th>\n      <td>159258</td>\n      <td>1</td>\n    </tr>\n    <tr>\n      <th>3</th>\n      <td>159259</td>\n      <td>0</td>\n    </tr>\n    <tr>\n      <th>4</th>\n      <td>159260</td>\n      <td>0</td>\n    </tr>\n  </tbody>\n</table>\n</div>"
     },
     "execution_count": 43,
     "metadata": {},
     "output_type": "execute_result"
    }
   ],
   "source": [
    "# export the data\n",
    "# sample submission is (id,smoking)\n",
    "# create an empty dataframe\n",
    "df = pd.DataFrame()\n",
    "randomForest = RandomForestClassifier(n_estimators=100, random_state=random_state)\n",
    "randomForest.fit(X_train, y_train)\n",
    "pred = randomForest.predict(X_test)\n",
    "# add the id column\n",
    "n_rows, n_cols = X_test.shape\n",
    "df['id'] = df_test['id']\n",
    "# add the Label column\n",
    "df['smoking'] = pred\n",
    "df.to_csv(\"submissions/submissionRF.csv\", index=False)\n",
    "# show the first 5 rows\n",
    "df.head()"
   ],
   "metadata": {
    "collapsed": false,
    "ExecuteTime": {
     "end_time": "2023-11-04T13:55:11.905567Z",
     "start_time": "2023-11-04T13:54:52.127540Z"
    }
   },
   "id": "e9b4ebbd393461b0"
  },
  {
   "cell_type": "markdown",
   "source": [
    "# Looper for KNN\n",
    "Knn Best Score with Distance N=10 Score = 0.6684\n",
    "KNN Best Score with Uniform K=15 Score = 0.6726"
   ],
   "metadata": {
    "collapsed": false
   },
   "id": "a25f1f5762bb2ee4"
  },
  {
   "cell_type": "code",
   "execution_count": null,
   "outputs": [],
   "source": [
    "#Looper for KNN\n",
    "from sklearn.neighbors import KNeighborsClassifier\n",
    "result = []\n",
    "for k in range ( 1, 20):\n",
    "    knn = KNeighborsClassifier(n_neighbors=k, weights='uniform')\n",
    "    knn.fit(X_train, y_train)\n",
    "    s = \"K:\" + str( k) + \" Score: \" + str(knn.score(X_val, y_val))\n",
    "    result.append(s)\n",
    "print (result)"
   ],
   "metadata": {
    "collapsed": false
   },
   "id": "74c702cf6aa32dcd"
  },
  {
   "cell_type": "code",
   "execution_count": 26,
   "outputs": [
    {
     "ename": "IndexError",
     "evalue": "only integers, slices (`:`), ellipsis (`...`), numpy.newaxis (`None`) and integer or boolean arrays are valid indices",
     "output_type": "error",
     "traceback": [
      "\u001B[0;31m---------------------------------------------------------------------------\u001B[0m",
      "\u001B[0;31mIndexError\u001B[0m                                Traceback (most recent call last)",
      "Cell \u001B[0;32mIn[26], line 17\u001B[0m\n\u001B[1;32m     15\u001B[0m n_rows, n_cols \u001B[38;5;241m=\u001B[39m X_test\u001B[38;5;241m.\u001B[39mshape\n\u001B[1;32m     16\u001B[0m df[\u001B[38;5;124m'\u001B[39m\u001B[38;5;124mid\u001B[39m\u001B[38;5;124m'\u001B[39m] \u001B[38;5;241m=\u001B[39m \u001B[38;5;28mrange\u001B[39m(\u001B[38;5;241m1\u001B[39m, n_rows\u001B[38;5;241m+\u001B[39m\u001B[38;5;241m1\u001B[39m)\n\u001B[0;32m---> 17\u001B[0m df[\u001B[38;5;124m'\u001B[39m\u001B[38;5;124mid\u001B[39m\u001B[38;5;124m'\u001B[39m] \u001B[38;5;241m=\u001B[39m X_test[\u001B[38;5;124m'\u001B[39m\u001B[38;5;124mid\u001B[39m\u001B[38;5;124m'\u001B[39m]\n\u001B[1;32m     18\u001B[0m \u001B[38;5;66;03m# add the Label column\u001B[39;00m\n\u001B[1;32m     19\u001B[0m df[\u001B[38;5;124m'\u001B[39m\u001B[38;5;124msmoking\u001B[39m\u001B[38;5;124m'\u001B[39m] \u001B[38;5;241m=\u001B[39m pred\n",
      "\u001B[0;31mIndexError\u001B[0m: only integers, slices (`:`), ellipsis (`...`), numpy.newaxis (`None`) and integer or boolean arrays are valid indices"
     ]
    }
   ],
   "source": [
    "#generate the submission\n",
    "#read the file\n",
    "df_test = pd.read_csv(\"datasets/test.csv\")\n",
    "#get the test values\n",
    "X_test = df_test.values\n",
    "#do predictions\n",
    "knn = KNeighborsClassifier(n_neighbors=15, weights='uniform')\n",
    "knn.fit(X_train, y_train)\n",
    "pred = knn.predict(X_test)"
   ],
   "metadata": {
    "collapsed": false,
    "ExecuteTime": {
     "end_time": "2023-11-04T12:56:39.581506Z",
     "start_time": "2023-11-04T12:56:19.267876Z"
    }
   },
   "id": "9e7174c1efd5bac8"
  },
  {
   "cell_type": "code",
   "execution_count": 30,
   "outputs": [
    {
     "data": {
      "text/plain": "       id  smoking\n0  159256        0\n1  159257        0\n2  159258        0\n3  159259        0\n4  159260        1",
      "text/html": "<div>\n<style scoped>\n    .dataframe tbody tr th:only-of-type {\n        vertical-align: middle;\n    }\n\n    .dataframe tbody tr th {\n        vertical-align: top;\n    }\n\n    .dataframe thead th {\n        text-align: right;\n    }\n</style>\n<table border=\"1\" class=\"dataframe\">\n  <thead>\n    <tr style=\"text-align: right;\">\n      <th></th>\n      <th>id</th>\n      <th>smoking</th>\n    </tr>\n  </thead>\n  <tbody>\n    <tr>\n      <th>0</th>\n      <td>159256</td>\n      <td>0</td>\n    </tr>\n    <tr>\n      <th>1</th>\n      <td>159257</td>\n      <td>0</td>\n    </tr>\n    <tr>\n      <th>2</th>\n      <td>159258</td>\n      <td>0</td>\n    </tr>\n    <tr>\n      <th>3</th>\n      <td>159259</td>\n      <td>0</td>\n    </tr>\n    <tr>\n      <th>4</th>\n      <td>159260</td>\n      <td>1</td>\n    </tr>\n  </tbody>\n</table>\n</div>"
     },
     "execution_count": 30,
     "metadata": {},
     "output_type": "execute_result"
    }
   ],
   "source": [
    "# sample submission is (id,smoking)\n",
    "# create an empty dataframe\n",
    "df = pd.DataFrame()\n",
    "# add the id column\n",
    "n_rows, n_cols = X_test.shape\n",
    "df['id'] = df_test['id']\n",
    "# add the Label column\n",
    "df['smoking'] = pred\n",
    "df.to_csv(\"submissions/submissionKnn.csv\", index=False)\n",
    "# show the first 5 rows\n",
    "df.head()"
   ],
   "metadata": {
    "collapsed": false,
    "ExecuteTime": {
     "end_time": "2023-11-04T13:01:51.393809Z",
     "start_time": "2023-11-04T13:01:51.286951Z"
    }
   },
   "id": "514f6ea45f5170f1"
  },
  {
   "cell_type": "markdown",
   "source": [
    " # Logistic Regression\n",
    " With cross validation for scoring"
   ],
   "metadata": {
    "collapsed": false
   },
   "id": "b4bc6c4309aaba62"
  },
  {
   "cell_type": "code",
   "execution_count": 10,
   "outputs": [
    {
     "name": "stderr",
     "output_type": "stream",
     "text": [
      "[Parallel(n_jobs=-1)]: Using backend LokyBackend with 8 concurrent workers.\n",
      "[Parallel(n_jobs=-1)]: Done   2 out of   5 | elapsed:    4.4s remaining:    6.6s\n",
      "[Parallel(n_jobs=-1)]: Done   5 out of   5 | elapsed:    4.9s finished\n"
     ]
    }
   ],
   "source": [
    "from sklearn.linear_model import LogisticRegression\n",
    "from sklearn.model_selection import cross_val_score\n",
    "\n",
    "log_reg = LogisticRegression(\n",
    "    random_state=random_state,\n",
    "    C=100,\n",
    "    solver='lbfgs',\n",
    "    multi_class='auto',\n",
    "    max_iter=10000)\n",
    "scores = cross_val_score(estimator=log_reg, # the model\n",
    "                         X=X_train, y=y_train, # X, y\n",
    "                         cv=5,       #number of folds - default 5-fold cross validation (see alternatives in documentation)\n",
    "                         n_jobs=-1,  # use all CPU\n",
    "                         verbose=1,   # verbose level \n",
    "                         )"
   ],
   "metadata": {
    "collapsed": false,
    "ExecuteTime": {
     "end_time": "2023-11-04T12:14:56.305894Z",
     "start_time": "2023-11-04T12:14:51.290593Z"
    }
   },
   "id": "d2e572a7c145fe27"
  },
  {
   "cell_type": "code",
   "execution_count": 12,
   "outputs": [
    {
     "data": {
      "text/plain": "0.7253226478287729"
     },
     "execution_count": 12,
     "metadata": {},
     "output_type": "execute_result"
    }
   ],
   "source": [
    "scores.mean()"
   ],
   "metadata": {
    "collapsed": false,
    "ExecuteTime": {
     "end_time": "2023-11-04T12:16:20.988074Z",
     "start_time": "2023-11-04T12:16:20.985781Z"
    }
   },
   "id": "c62af42ea79d86eb"
  },
  {
   "cell_type": "code",
   "execution_count": null,
   "outputs": [],
   "source": [
    "# Mean score : 0,72\n"
   ],
   "metadata": {
    "collapsed": false
   },
   "id": "721d1b9d6eb2b0a4"
  },
  {
   "cell_type": "markdown",
   "source": [
    "# SVC - Support Vector Machines\n",
    "## Shouldnt be executed on the Mac"
   ],
   "metadata": {
    "collapsed": false
   },
   "id": "a699528b0292aaa"
  },
  {
   "cell_type": "code",
   "execution_count": null,
   "outputs": [],
   "source": [
    "from sklearn.svm import SVC\n",
    "#Create an SVM classifier (Support Vector Machine)\n",
    "svm_classifier = SVC(kernel='linear', C=1.0, random_state=random_state,probability=True)# n_jobs not available\n",
    "\n",
    "# Train the SVM model on the training data\n",
    "svm_classifier.fit(X_train, y_train)\n",
    "\n",
    "# Make predictions on the test data\n",
    "y_pred = svm_classifier.predict_proba(X_test)"
   ],
   "metadata": {
    "collapsed": false,
    "ExecuteTime": {
     "start_time": "2023-11-07T13:15:20.743809Z"
    }
   },
   "id": "1193290691397dc6"
  },
  {
   "cell_type": "code",
   "execution_count": null,
   "outputs": [],
   "source": [
    "# Calculate the accuracy score on the test data\n",
    "accuracy = svm_classifier.score(X_test, y_train)\n",
    "\n",
    "# Print the accuracy score\n",
    "print(\"Accuracy Score:\", accuracy)"
   ],
   "metadata": {
    "collapsed": false
   },
   "id": "4a7450a46f678ae9"
  },
  {
   "cell_type": "markdown",
   "source": [
    "# Decision Tree\n",
    "Scores are given with an Cross Validation\n",
    "Best Score = 0.69\n"
   ],
   "metadata": {
    "collapsed": false
   },
   "id": "85a05df78f5c10c3"
  },
  {
   "cell_type": "code",
   "execution_count": 11,
   "outputs": [
    {
     "name": "stdout",
     "output_type": "stream",
     "text": [
      "Fold 1 Accuracy Score: 0.69\n",
      "Fold 2 Accuracy Score: 0.69\n",
      "Fold 3 Accuracy Score: 0.69\n",
      "Fold 4 Accuracy Score: 0.69\n",
      "Fold 5 Accuracy Score: 0.69\n",
      "Mean Accuracy Score: 0.69\n"
     ]
    }
   ],
   "source": [
    "from sklearn.tree import DecisionTreeClassifier\n",
    "from sklearn.model_selection import cross_val_score,cross_val_predict\n",
    "# Create a decision tree classifier\n",
    "clf = DecisionTreeClassifier(criterion='gini', max_depth=None,random_state=random_state) # n_jobs not available\n",
    "\n",
    "# Perform 5-fold cross-validation and obtain class probabilities\n",
    "y_probabilities = cross_val_predict(clf, X_train, y_train, cv=5, method='predict_proba')\n",
    "\n",
    "# Perform 5-fold cross-validation and calculate accuracy scores\n",
    "scores = cross_val_score(clf, X_train, y_train, cv=5, scoring='accuracy')\n",
    "\n",
    "# Print the accuracy scores for each fold\n",
    "for i, score in enumerate(scores):\n",
    "    print(f\"Fold {i+1} Accuracy Score: {score:.2f}\")\n",
    "\n",
    "# Calculate and print the mean accuracy score\n",
    "mean_accuracy = scores.mean()\n",
    "print(f\"Mean Accuracy Score: {mean_accuracy:.2f}\")\n",
    "\n"
   ],
   "metadata": {
    "collapsed": false,
    "ExecuteTime": {
     "end_time": "2023-11-07T13:51:55.229929Z",
     "start_time": "2023-11-07T13:51:43.727336Z"
    }
   },
   "id": "cfa66d7be414fb3b"
  },
  {
   "cell_type": "markdown",
   "source": [
    "# K-Fold"
   ],
   "metadata": {
    "collapsed": false
   },
   "id": "cf02a8775de006a7"
  },
  {
   "cell_type": "code",
   "execution_count": 13,
   "outputs": [
    {
     "data": {
      "text/plain": "0.6934397757013768"
     },
     "execution_count": 13,
     "metadata": {},
     "output_type": "execute_result"
    }
   ],
   "source": [
    "#K-Fold\n",
    "from sklearn.model_selection import KFold,cross_val_score\n",
    "from sklearn.linear_model import LogisticRegression\n",
    "\n",
    "# Create a logistic regression classifier with your desired hyperparameters\n",
    "log_reg = LogisticRegression(max_iter=1000, C=1.0,random_state=random_state)\n",
    "\n",
    "kfold = KFold(n_splits=3,\n",
    "              shuffle=True,\n",
    "              random_state=random_state)\n",
    "\n",
    "cross_val_score(estimator=log_reg,\n",
    "                X=X_train,\n",
    "                y=y_train,\n",
    "                cv=kfold,n_jobs=-1\n",
    "                )\n",
    "scores.mean()"
   ],
   "metadata": {
    "collapsed": false,
    "ExecuteTime": {
     "end_time": "2023-11-07T13:57:14.397177Z",
     "start_time": "2023-11-07T13:57:11.840776Z"
    }
   },
   "id": "227c3ba7ce43270c"
  },
  {
   "cell_type": "markdown",
   "source": [
    "# Stratified K Fold"
   ],
   "metadata": {
    "collapsed": false
   },
   "id": "9946dae98cac6050"
  },
  {
   "cell_type": "code",
   "execution_count": 14,
   "outputs": [
    {
     "name": "stdout",
     "output_type": "stream",
     "text": [
      "[0.7276402  0.71881009 0.72034065 0.7307798  0.73175039]\n"
     ]
    }
   ],
   "source": [
    "#Stratified K Fold\n",
    "from sklearn.model_selection import StratifiedKFold\n",
    "skf = StratifiedKFold()\n",
    "\n",
    "score = cross_val_score(estimator=log_reg,\n",
    "                        X=X_train,\n",
    "                        y=y_train,\n",
    "                        cv=skf #  int, cross-validation generator or an iterable, optional\n",
    "                        )\n",
    "print(score)"
   ],
   "metadata": {
    "collapsed": false,
    "ExecuteTime": {
     "end_time": "2023-11-07T13:58:22.689117Z",
     "start_time": "2023-11-07T13:58:12.341560Z"
    }
   },
   "id": "abb80e3d42e79aad"
  },
  {
   "cell_type": "code",
   "execution_count": 17,
   "outputs": [
    {
     "data": {
      "text/plain": "0.7253226478287729"
     },
     "execution_count": 17,
     "metadata": {},
     "output_type": "execute_result"
    }
   ],
   "source": [
    "score.mean()"
   ],
   "metadata": {
    "collapsed": false,
    "ExecuteTime": {
     "end_time": "2023-11-04T12:21:28.595181Z",
     "start_time": "2023-11-04T12:21:28.588277Z"
    }
   },
   "id": "5651042cb44b94ff"
  },
  {
   "cell_type": "markdown",
   "source": [
    "# Stratified Search\n",
    "With Cross Validation for scoring"
   ],
   "metadata": {
    "collapsed": false
   },
   "id": "7035a76d01a73019"
  },
  {
   "cell_type": "code",
   "execution_count": 15,
   "outputs": [
    {
     "name": "stdout",
     "output_type": "stream",
     "text": [
      "[0.72914508 0.71752849 0.72211234 0.72496939 0.72666478 0.72349377\n",
      " 0.72270886 0.71859596 0.72352516 0.72810901]\n"
     ]
    }
   ],
   "source": [
    "from sklearn.model_selection import StratifiedShuffleSplit\n",
    "sss = StratifiedShuffleSplit(\n",
    "    n_splits=10,\n",
    "    train_size=.75,\n",
    "    #     test_size wil be complement of the train_size\n",
    "    random_state=random_state)\n",
    "\n",
    "score = cross_val_score(estimator=log_reg,\n",
    "                        X=X_train,\n",
    "                        y=y_train,\n",
    "                        cv=sss)\n",
    "print(score)"
   ],
   "metadata": {
    "collapsed": false,
    "ExecuteTime": {
     "end_time": "2023-11-07T13:59:05.461457Z",
     "start_time": "2023-11-07T13:58:44.228768Z"
    }
   },
   "id": "d9392e4f7f134095"
  },
  {
   "cell_type": "markdown",
   "source": [],
   "metadata": {
    "collapsed": false
   },
   "id": "e639d681d500728a"
  },
  {
   "cell_type": "markdown",
   "source": [
    "# Start to work with ensembles with the best models so far...\n",
    "\n",
    "MLP\n",
    "Random Forest\n",
    "KNN (Este retirei-o no fim pq tinha resultados bem piores)\n",
    "\n",
    "Voting Soft parece que dá melhores resultados porque usa a média das probabilidades em vez de um \"hard\" vote. Alem disso tem que se usar SOFT para ter predições em formato de probabilidade"
   ],
   "metadata": {
    "collapsed": false
   },
   "id": "461ac101fadd767b"
  },
  {
   "cell_type": "code",
   "execution_count": 12,
   "outputs": [
    {
     "name": "stderr",
     "output_type": "stream",
     "text": [
      "/Users/nunovivas/anaconda3/lib/python3.11/site-packages/sklearn/neural_network/_multilayer_perceptron.py:709: UserWarning: Training interrupted by user.\n",
      "  warnings.warn(\"Training interrupted by user.\")\n"
     ]
    },
    {
     "ename": "AttributeError",
     "evalue": "predict_proba is not available when voting='hard'",
     "output_type": "error",
     "traceback": [
      "\u001B[0;31m---------------------------------------------------------------------------\u001B[0m",
      "\u001B[0;31mAttributeError\u001B[0m                            Traceback (most recent call last)",
      "Cell \u001B[0;32mIn[12], line 24\u001B[0m\n\u001B[1;32m     21\u001B[0m ensemble_classifier\u001B[38;5;241m.\u001B[39mfit(X_train, y_train)\n\u001B[1;32m     23\u001B[0m \u001B[38;5;66;03m# Make predictions using the ensemble classifier\u001B[39;00m\n\u001B[0;32m---> 24\u001B[0m y_pred \u001B[38;5;241m=\u001B[39m ensemble_classifier\u001B[38;5;241m.\u001B[39mpredict_proba(X_test)\n\u001B[1;32m     26\u001B[0m \u001B[38;5;66;03m#Score\u001B[39;00m\n\u001B[1;32m     27\u001B[0m ensemble_classifier\u001B[38;5;241m.\u001B[39mscore(X_train,y_train)\n",
      "File \u001B[0;32m~/anaconda3/lib/python3.11/site-packages/sklearn/utils/metaestimators.py:127\u001B[0m, in \u001B[0;36m_AvailableIfDescriptor.__get__\u001B[0;34m(self, obj, owner)\u001B[0m\n\u001B[1;32m    121\u001B[0m attr_err \u001B[38;5;241m=\u001B[39m \u001B[38;5;167;01mAttributeError\u001B[39;00m(\n\u001B[1;32m    122\u001B[0m     \u001B[38;5;124mf\u001B[39m\u001B[38;5;124m\"\u001B[39m\u001B[38;5;124mThis \u001B[39m\u001B[38;5;132;01m{\u001B[39;00m\u001B[38;5;28mrepr\u001B[39m(owner\u001B[38;5;241m.\u001B[39m\u001B[38;5;18m__name__\u001B[39m)\u001B[38;5;132;01m}\u001B[39;00m\u001B[38;5;124m has no attribute \u001B[39m\u001B[38;5;132;01m{\u001B[39;00m\u001B[38;5;28mrepr\u001B[39m(\u001B[38;5;28mself\u001B[39m\u001B[38;5;241m.\u001B[39mattribute_name)\u001B[38;5;132;01m}\u001B[39;00m\u001B[38;5;124m\"\u001B[39m\n\u001B[1;32m    123\u001B[0m )\n\u001B[1;32m    124\u001B[0m \u001B[38;5;28;01mif\u001B[39;00m obj \u001B[38;5;129;01mis\u001B[39;00m \u001B[38;5;129;01mnot\u001B[39;00m \u001B[38;5;28;01mNone\u001B[39;00m:\n\u001B[1;32m    125\u001B[0m     \u001B[38;5;66;03m# delegate only on instances, not the classes.\u001B[39;00m\n\u001B[1;32m    126\u001B[0m     \u001B[38;5;66;03m# this is to allow access to the docstrings.\u001B[39;00m\n\u001B[0;32m--> 127\u001B[0m     \u001B[38;5;28;01mif\u001B[39;00m \u001B[38;5;129;01mnot\u001B[39;00m \u001B[38;5;28mself\u001B[39m\u001B[38;5;241m.\u001B[39mcheck(obj):\n\u001B[1;32m    128\u001B[0m         \u001B[38;5;28;01mraise\u001B[39;00m attr_err\n\u001B[1;32m    129\u001B[0m     out \u001B[38;5;241m=\u001B[39m MethodType(\u001B[38;5;28mself\u001B[39m\u001B[38;5;241m.\u001B[39mfn, obj)\n",
      "File \u001B[0;32m~/anaconda3/lib/python3.11/site-packages/sklearn/ensemble/_voting.py:388\u001B[0m, in \u001B[0;36mVotingClassifier._check_voting\u001B[0;34m(self)\u001B[0m\n\u001B[1;32m    386\u001B[0m \u001B[38;5;28;01mdef\u001B[39;00m \u001B[38;5;21m_check_voting\u001B[39m(\u001B[38;5;28mself\u001B[39m):\n\u001B[1;32m    387\u001B[0m     \u001B[38;5;28;01mif\u001B[39;00m \u001B[38;5;28mself\u001B[39m\u001B[38;5;241m.\u001B[39mvoting \u001B[38;5;241m==\u001B[39m \u001B[38;5;124m\"\u001B[39m\u001B[38;5;124mhard\u001B[39m\u001B[38;5;124m\"\u001B[39m:\n\u001B[0;32m--> 388\u001B[0m         \u001B[38;5;28;01mraise\u001B[39;00m \u001B[38;5;167;01mAttributeError\u001B[39;00m(\n\u001B[1;32m    389\u001B[0m             \u001B[38;5;124mf\u001B[39m\u001B[38;5;124m\"\u001B[39m\u001B[38;5;124mpredict_proba is not available when voting=\u001B[39m\u001B[38;5;132;01m{\u001B[39;00m\u001B[38;5;28mrepr\u001B[39m(\u001B[38;5;28mself\u001B[39m\u001B[38;5;241m.\u001B[39mvoting)\u001B[38;5;132;01m}\u001B[39;00m\u001B[38;5;124m\"\u001B[39m\n\u001B[1;32m    390\u001B[0m         )\n\u001B[1;32m    391\u001B[0m     \u001B[38;5;28;01mreturn\u001B[39;00m \u001B[38;5;28;01mTrue\u001B[39;00m\n",
      "\u001B[0;31mAttributeError\u001B[0m: predict_proba is not available when voting='hard'"
     ]
    }
   ],
   "source": [
    "from sklearn.ensemble import VotingClassifier\n",
    "from sklearn.model_selection import train_test_split\n",
    "from sklearn.neural_network import MLPClassifier\n",
    "from sklearn.ensemble import RandomForestClassifier\n",
    "\n",
    "# Create the MLP classifier\n",
    "mlp_classifier = MLPClassifier(hidden_layer_sizes=(100, 50), max_iter=1000, random_state=random_state)\n",
    "\n",
    "# Create the Random Forest classifier\n",
    "rf_classifier = RandomForestClassifier(n_estimators=91, random_state=random_state,n_jobs=-1)\n",
    "\n",
    "# Create the KNN classifies\n",
    "#knn_classifier = KNeighborsClassifier(n_neighbors=15, weights='uniform')\n",
    "\n",
    "# Create a Voting Classifier that combines the predictions of the MLP and Random Forest classifiers\n",
    "ensemble_classifier = VotingClassifier(estimators=[('mlp', mlp_classifier), ('rf', rf_classifier)], voting='soft')\n",
    "# probability=True)\n",
    "# Train the ensemble classifier on the training data\n",
    "ensemble_classifier.fit(X_train, y_train)\n",
    "\n",
    "# Make predictions using the ensemble classifier\n",
    "y_pred = ensemble_classifier.predict_proba(X_test)\n",
    "\n",
    "#Score\n",
    "ensemble_classifier.score(X_train,y_train)"
   ],
   "metadata": {
    "collapsed": false,
    "ExecuteTime": {
     "end_time": "2023-11-06T15:25:22.076919Z",
     "start_time": "2023-11-06T15:23:58.922823Z"
    }
   },
   "id": "ed7642498aa803ac"
  },
  {
   "cell_type": "code",
   "execution_count": 19,
   "outputs": [
    {
     "data": {
      "text/plain": "array([0.60100126, 0.31454335, 0.61199027, ..., 0.39004452, 0.31064334,\n       0.1407514 ])"
     },
     "execution_count": 19,
     "metadata": {},
     "output_type": "execute_result"
    }
   ],
   "source": [
    "y_pred[:,1]"
   ],
   "metadata": {
    "collapsed": false,
    "ExecuteTime": {
     "end_time": "2023-11-06T15:29:28.809610Z",
     "start_time": "2023-11-06T15:29:28.794412Z"
    }
   },
   "id": "4319e1ab2ed0bf53"
  },
  {
   "cell_type": "code",
   "execution_count": 21,
   "outputs": [
    {
     "data": {
      "text/plain": "       id   smoking\n0  159256  0.601001\n1  159257  0.314543\n2  159258  0.611990\n3  159259  0.067305\n4  159260  0.576266",
      "text/html": "<div>\n<style scoped>\n    .dataframe tbody tr th:only-of-type {\n        vertical-align: middle;\n    }\n\n    .dataframe tbody tr th {\n        vertical-align: top;\n    }\n\n    .dataframe thead th {\n        text-align: right;\n    }\n</style>\n<table border=\"1\" class=\"dataframe\">\n  <thead>\n    <tr style=\"text-align: right;\">\n      <th></th>\n      <th>id</th>\n      <th>smoking</th>\n    </tr>\n  </thead>\n  <tbody>\n    <tr>\n      <th>0</th>\n      <td>159256</td>\n      <td>0.601001</td>\n    </tr>\n    <tr>\n      <th>1</th>\n      <td>159257</td>\n      <td>0.314543</td>\n    </tr>\n    <tr>\n      <th>2</th>\n      <td>159258</td>\n      <td>0.611990</td>\n    </tr>\n    <tr>\n      <th>3</th>\n      <td>159259</td>\n      <td>0.067305</td>\n    </tr>\n    <tr>\n      <th>4</th>\n      <td>159260</td>\n      <td>0.576266</td>\n    </tr>\n  </tbody>\n</table>\n</div>"
     },
     "execution_count": 21,
     "metadata": {},
     "output_type": "execute_result"
    }
   ],
   "source": [
    "#Create a submission for this:\n",
    "#sample submission is (id,smoking)\n",
    "# create an empty dataframe\n",
    "df = pd.DataFrame()\n",
    "# add the id column\n",
    "df['id'] = df_test['id']\n",
    "# add the Label column\n",
    "df['smoking'] = y_pred[:,1] # apenas a probabilidade de ser fumador\n",
    "df.to_csv(\"submissions/submissionEssembleJustBest2_WithProba.csv\", index=False) #test\n",
    "# show the first 5 rows\n",
    "df.head()"
   ],
   "metadata": {
    "collapsed": false,
    "ExecuteTime": {
     "end_time": "2023-11-06T15:30:07.597255Z",
     "start_time": "2023-11-06T15:30:07.445573Z"
    }
   },
   "id": "78c215702bed9df4"
  }
 ],
 "metadata": {
  "kernelspec": {
   "display_name": "Python 3",
   "language": "python",
   "name": "python3"
  },
  "language_info": {
   "codemirror_mode": {
    "name": "ipython",
    "version": 2
   },
   "file_extension": ".py",
   "mimetype": "text/x-python",
   "name": "python",
   "nbconvert_exporter": "python",
   "pygments_lexer": "ipython2",
   "version": "2.7.6"
  }
 },
 "nbformat": 4,
 "nbformat_minor": 5
}
